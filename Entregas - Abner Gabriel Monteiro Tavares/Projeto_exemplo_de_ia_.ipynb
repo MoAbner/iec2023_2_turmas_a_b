{
  "nbformat": 4,
  "nbformat_minor": 0,
  "metadata": {
    "colab": {
      "provenance": [],
      "authorship_tag": "ABX9TyN66TjkIOHS063Tc/Nor00N",
      "include_colab_link": true
    },
    "kernelspec": {
      "name": "python3",
      "display_name": "Python 3"
    },
    "language_info": {
      "name": "python"
    }
  },
  "cells": [
    {
      "cell_type": "markdown",
      "metadata": {
        "id": "view-in-github",
        "colab_type": "text"
      },
      "source": [
        "<a href=\"https://colab.research.google.com/github/MoAbner/iec2023_2_turmas_a_b/blob/main/Entregas%20-%20Abner%20Gabriel%20Monteiro%20Tavares/Projeto_exemplo_de_ia_.ipynb\" target=\"_parent\"><img src=\"https://colab.research.google.com/assets/colab-badge.svg\" alt=\"Open In Colab\"/></a>"
      ]
    },
    {
      "cell_type": "code",
      "execution_count": null,
      "metadata": {
        "id": "ZHwPbX3wveZc"
      },
      "outputs": [],
      "source": []
    }
  ]
}